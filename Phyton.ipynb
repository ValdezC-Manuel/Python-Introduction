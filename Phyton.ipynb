{
  "nbformat": 4,
  "nbformat_minor": 0,
  "metadata": {
    "colab": {
      "name": "Phyton",
      "provenance": [],
      "collapsed_sections": [
        "eDVeUOgNKT-g",
        "6JaVp4ZZlDfh",
        "X2HaiqyIsUd0",
        "MglfS_GA04A-"
      ],
      "authorship_tag": "ABX9TyPfyOlPPNuHh/MATKsM8wwC",
      "include_colab_link": true
    },
    "kernelspec": {
      "name": "python3",
      "display_name": "Python 3"
    },
    "language_info": {
      "name": "python"
    }
  },
  "cells": [
    {
      "cell_type": "markdown",
      "metadata": {
        "id": "view-in-github",
        "colab_type": "text"
      },
      "source": [
        "<a href=\"https://colab.research.google.com/github/ValdezC-Manuel/Python-Introduction/blob/main/Phyton.ipynb\" target=\"_parent\"><img src=\"https://colab.research.google.com/assets/colab-badge.svg\" alt=\"Open In Colab\"/></a>"
      ]
    },
    {
      "cell_type": "markdown",
      "metadata": {
        "id": "eDVeUOgNKT-g"
      },
      "source": [
        "# **Python**"
      ]
    },
    {
      "cell_type": "markdown",
      "metadata": {
        "id": "lQSd9zTBivf1"
      },
      "source": [
        "![python](https://camo.githubusercontent.com/600d3e8548b99b49a520a0ec4996252c51861df95b78e9d319fb704a94aea808/68747470733a2f2f74656368737061776e2e636f6d2f77702d636f6e74656e742f75706c6f6164732f323031362f31302f507974686f6e5f6c6f676f2e706e67)"
      ]
    },
    {
      "cell_type": "markdown",
      "metadata": {
        "id": "EA4JXeQMi60A"
      },
      "source": [
        "Python was created by Guido van Rossum, a Dutch programmer in the late 1980s and early 1990s when working on the Amoeba operating system. It is primarily intended to handle exceptions and interface with Amoeba as a successor to the ABC language."
      ]
    },
    {
      "cell_type": "markdown",
      "metadata": {
        "id": "ujdoH86RkRF2"
      },
      "source": [
        "![Guido](https://encrypted-tbn0.gstatic.com/images?q=tbn:ANd9GcT6QMclPMm-t797hU7sCsZNDEq7-_T8sECxNQ&usqp=CAU)"
      ]
    },
    {
      "cell_type": "markdown",
      "metadata": {
        "id": "Td_E71yPoq-0"
      },
      "source": [
        "His philosophy was the same from the first moment: to create a programming language that was very easy to learn, write and understand, without this stopping its potential to create any type of application. In those years, the hardware that existed did not allow such a thing, and that is why Python has resurfaced in recent years, because the advancement of technology has made it possible to achieve the initial objective of this programming language ahead of its time."
      ]
    },
    {
      "cell_type": "markdown",
      "metadata": {
        "id": "6JaVp4ZZlDfh"
      },
      "source": [
        "# What is Python and what is it for?"
      ]
    },
    {
      "cell_type": "markdown",
      "metadata": {
        "id": "SQRiu_aRmAJ6"
      },
      "source": [
        "Python is a high-level programming language used to develop applications of all kinds. Unlike other languages such as Java or .NET, it is an interpreted language, that is, it is not necessary to compile it to run applications written in Python, but rather they are run directly by the computer using a program called an interpreter, so that it is not necessary to \"translate\" it into machine language.\n",
        "\n",
        "Python is a simple language to read and write due to its high similarity to human language. In addition, it is an open source multiplatform language and, therefore, free, which allows the development of software without limits. With the passage of time, Python has been gaining followers thanks to its simplicity and its wide possibilities, especially in recent years, since it facilitates working with artificial intelligence, big data, machine learning and data science, among many other booming fields."
      ]
    },
    {
      "cell_type": "markdown",
      "metadata": {
        "id": "X2HaiqyIsUd0"
      },
      "source": [
        "# Where is Python used?"
      ]
    },
    {
      "cell_type": "markdown",
      "metadata": {
        "id": "L__B00iztAWk"
      },
      "source": [
        "As you have already seen, Python is a cross-platform programming language, something that allows you to develop applications on any operating system with amazing ease."
      ]
    },
    {
      "cell_type": "markdown",
      "metadata": {
        "id": "7OmYCjp3tMET"
      },
      "source": [
        "## Data analytics and big data"
      ]
    },
    {
      "cell_type": "markdown",
      "metadata": {
        "id": "WYhZAN7stjuz"
      },
      "source": [
        "![bigdata](https://encrypted-tbn0.gstatic.com/images?q=tbn:ANd9GcTgpBO6ntUfLTHLTFOtnThUF3hMMju_Fi6HCQ&usqp=CAU)"
      ]
    },
    {
      "cell_type": "markdown",
      "metadata": {
        "id": "JbMalwRlua8A"
      },
      "source": [
        "The use of Python is very widespread in two areas that have been, and will be, on everyone's lips: data analysis and big data. Its simplicity and large number of data processing libraries make Python ideal for analyzing and managing large amounts of data in real time.\n",
        "\n",
        "Analyzing a large amount of data to transform it into useful information for big data is one of Python's specialties."
      ]
    },
    {
      "cell_type": "markdown",
      "metadata": {
        "id": "FeJHdpi_uuXN"
      },
      "source": [
        "## Data mining"
      ]
    },
    {
      "cell_type": "markdown",
      "metadata": {
        "id": "-KMFgE0cvTAa"
      },
      "source": [
        "![datamining](https://encrypted-tbn0.gstatic.com/images?q=tbn:ANd9GcTc3Ive4b2yJcJwsWPSWqkqngqxdy55_Y6L0g&usqp=CAU)"
      ]
    },
    {
      "cell_type": "markdown",
      "metadata": {
        "id": "KyyozyEUven8"
      },
      "source": [
        "Data mining is a process that allows you to analyze large databases in order to predict future trends. It is a complex process that Python can shed light on through cleaning and organizing data and using machine learning algorithms that simplify data analysis."
      ]
    },
    {
      "cell_type": "markdown",
      "metadata": {
        "id": "V-AcG2ljwLlu"
      },
      "source": [
        "## Artificial intelligence"
      ]
    },
    {
      "cell_type": "markdown",
      "metadata": {
        "id": "OO5DjViiwa7H"
      },
      "source": [
        "![IA](https://encrypted-tbn0.gstatic.com/images?q=tbn:ANd9GcSdkyWC5ttQspg4efnebp_xHab1s_cWXGAr4g&usqp=CAU)"
      ]
    },
    {
      "cell_type": "markdown",
      "metadata": {
        "id": "SSgh6y71w_f6"
      },
      "source": [
        "You've probably heard a lot about artificial intelligence (AI) over the last few years. Much of its advancement is due to Python. Its ease of writing and its robustness have made Python the perfect ally for AI. Its ability to capture complex ideas in a few lines, together with the large number of existing frameworks, have made Python one of the programming languages that are driving AI."
      ]
    },
    {
      "cell_type": "markdown",
      "metadata": {
        "id": "jhu53Dk3xqBY"
      },
      "source": [
        "## Blockchain"
      ]
    },
    {
      "cell_type": "markdown",
      "metadata": {
        "id": "7f81Ey1lxuPZ"
      },
      "source": [
        "![blockchain](https://encrypted-tbn0.gstatic.com/images?q=tbn:ANd9GcQKo-UQnPX-iCVzqnMJ5T7frt3HWj7uKkZDag&usqp=CAU)"
      ]
    },
    {
      "cell_type": "markdown",
      "metadata": {
        "id": "qHnoLMRPx7u2"
      },
      "source": [
        "The Blockchain distributed database, known worldwide for being the foundation on which cryptocurrencies are based, also works very well together with Python. As a versatile, secure and fast language, it is very useful for forming blockchains, and it even allows developers to create a simple blockchain in less than 50 lines of code, making something very complex simple."
      ]
    },
    {
      "cell_type": "markdown",
      "metadata": {
        "id": "sePQiqqhydh0"
      },
      "source": [
        "## Machine learning"
      ]
    },
    {
      "cell_type": "markdown",
      "metadata": {
        "id": "uzJeXVv4yoVU"
      },
      "source": [
        "![machinelearning](https://encrypted-tbn0.gstatic.com/images?q=tbn:ANd9GcSOQGseRlgMxPXDzqktHhapv4v4oCZ6ghjkBA&usqp=CAU)"
      ]
    },
    {
      "cell_type": "markdown",
      "metadata": {
        "id": "tb1XJBw8zDI8"
      },
      "source": [
        "Machine learning or automatic learning is another of the technologies that is changing the world as we know it. Robotics and AI are now capable of learning on their own as they process more and more data. In this way, they obtain increasingly relevant information that allows them to make the right decisions. Of course, Python is also very effective in this field, where effective data processing is essential."
      ]
    },
    {
      "cell_type": "markdown",
      "metadata": {
        "id": "a5CRdfuVzX4B"
      },
      "source": [
        "## Web development"
      ]
    },
    {
      "cell_type": "markdown",
      "metadata": {
        "id": "xu71Hcj1ziVL"
      },
      "source": [
        "![web](https://encrypted-tbn0.gstatic.com/images?q=tbn:ANd9GcSMVGKc5JwWhCPpBxdlsVENPBPjBliWX-TYng&usqp=CAU)"
      ]
    },
    {
      "cell_type": "markdown",
      "metadata": {
        "id": "aiPU602iz6zl"
      },
      "source": [
        "Python also allows to develop complex webs in fewer lines of code, which allows them to be lighter and more optimized. Django is one of the most popular Python frameworks today, which can be used to create dynamic and highly secure websites. Python is also widely used for scraping, that is, to obtain information from all kinds of websites, just like Netflix, Instagram or Pinterest do."
      ]
    },
    {
      "cell_type": "markdown",
      "metadata": {
        "id": "MglfS_GA04A-"
      },
      "source": [
        "# **Introduction to the print statement, if-else statement, and loops.**\n"
      ]
    },
    {
      "cell_type": "markdown",
      "metadata": {
        "id": "q3-kBf8s1ztg"
      },
      "source": [
        "## Python print() Function"
      ]
    },
    {
      "cell_type": "markdown",
      "metadata": {
        "id": "iHVqheqX14bB"
      },
      "source": [
        "The print() function prints the specified message to the screen, or other standard output device.\n",
        "\n",
        "The message can be a string, or any other object, the object will be converted into a string before written to the screen."
      ]
    },
    {
      "cell_type": "markdown",
      "metadata": {
        "id": "0K41MUrS2KfO"
      },
      "source": [
        "For example:\n",
        "\n",
        "print(\"Hello\", \"how are you?\")"
      ]
    },
    {
      "cell_type": "code",
      "metadata": {
        "colab": {
          "base_uri": "https://localhost:8080/"
        },
        "id": "BVQXtIP82YBb",
        "outputId": "a7e271ac-4847-4ac9-961e-96c8a9edd54b"
      },
      "source": [
        "print(\"Hello\", \"how are you?\")"
      ],
      "execution_count": null,
      "outputs": [
        {
          "output_type": "stream",
          "name": "stdout",
          "text": [
            "Hello how are you?\n"
          ]
        }
      ]
    },
    {
      "cell_type": "markdown",
      "metadata": {
        "id": "vrwWJN493GBt"
      },
      "source": [
        "## If-else statement"
      ]
    },
    {
      "cell_type": "markdown",
      "metadata": {
        "id": "sqsU2p6c3Gfw"
      },
      "source": [
        "An if else Python statement evaluates whether an expression is true or false. If a condition is true, the “if” statement executes. Otherwise, the “else” statement executes. Python if else statements help coders control the flow of their programs."
      ]
    },
    {
      "cell_type": "markdown",
      "metadata": {
        "id": "rGjLAmNW2jae"
      },
      "source": [
        "For example: \n",
        "\n",
        "sandwich_order = \"Ham Roll\"\n",
        "\n",
        "if sandwich_order == \"Ham Roll\":\n",
        "\tprint(\"Price: $1.75\")"
      ]
    },
    {
      "cell_type": "code",
      "metadata": {
        "colab": {
          "base_uri": "https://localhost:8080/"
        },
        "id": "b1IPS_Xp3kZ6",
        "outputId": "fdbbb631-db50-475a-ca2c-99502cfe5b9c"
      },
      "source": [
        "sandwich_order = \"Ham Roll\"\n",
        "\n",
        "if sandwich_order == \"Ham Roll\":\n",
        "\tprint(\"Price: $1.75\")"
      ],
      "execution_count": null,
      "outputs": [
        {
          "output_type": "stream",
          "name": "stdout",
          "text": [
            "Price: $1.75\n"
          ]
        }
      ]
    },
    {
      "cell_type": "markdown",
      "metadata": {
        "id": "WYGGOTCE3oFb"
      },
      "source": [
        "## Loops"
      ]
    },
    {
      "cell_type": "markdown",
      "metadata": {
        "id": "uuCrDvc_4g_u"
      },
      "source": [
        "A Python for loop iterates over an object until that object is complete. For instance, you can iterate over the contents of a list or a string. The for loop uses the syntax: for item in object, where “object” is the iterable over which you want to iterate."
      ]
    },
    {
      "cell_type": "markdown",
      "metadata": {
        "id": "Azh7vjMD4tjm"
      },
      "source": [
        "For example:\n",
        "\n",
        "for i in range(0,10): #The loop will be run 10 times\n",
        "    print(\"Hello\", end = ' '"
      ]
    },
    {
      "cell_type": "code",
      "metadata": {
        "colab": {
          "base_uri": "https://localhost:8080/"
        },
        "id": "mcty2ETa5HNZ",
        "outputId": "6fa32da2-1a22-4bff-8c04-142749b5ce6b"
      },
      "source": [
        "for i in range(0,10): #The loop will be run 10 times\n",
        "    print(\"Hello\", end = ' ')"
      ],
      "execution_count": null,
      "outputs": [
        {
          "output_type": "stream",
          "name": "stdout",
          "text": [
            "Hello Hello Hello Hello Hello Hello Hello Hello Hello Hello "
          ]
        }
      ]
    }
  ]
}